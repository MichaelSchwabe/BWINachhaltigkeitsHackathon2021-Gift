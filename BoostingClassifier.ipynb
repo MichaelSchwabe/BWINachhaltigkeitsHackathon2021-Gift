{
 "cells": [
  {
   "cell_type": "markdown",
   "id": "09711c3c-cb4c-4d23-9b27-d3bc5325831e",
   "metadata": {},
   "source": [
    "# Boosting Tutorial\n",
    "### Author: Michael Schwabe\n",
    "### Version: 1.0\n",
    "\n",
    "* DataSet 1 Intro: \n",
    "    * https://scikit-learn.org/stable/datasets/toy_dataset.html#breast-cancer-wisconsin-diagnostic-dataset\n",
    "* DataSet 2 Intro: \n",
    "    * https://scikit-learn.org/stable/datasets/toy_dataset.html#boston-house-prices-dataset\n",
    "    \n",
    "* Referenzen\n",
    "    * https://scikit-learn.org/\n",
    "    * https://towardsdatascience.com/ensemble-learning-bagging-boosting-3098079e5422 --> mehr Hintergrundwissen\n"
   ]
  },
  {
   "cell_type": "code",
   "execution_count": 12,
   "id": "ff53cc53-7ee2-4e2b-b771-ae2a10f32129",
   "metadata": {},
   "outputs": [],
   "source": [
    "# Basis Bibliotheken die wir zur Ausführung benötigen\n",
    "\n",
    "# loader klasse für den Datensatz\n",
    "from sklearn.datasets import load_breast_cancer\n",
    "from sklearn.datasets import load_boston\n",
    "from sklearn.datasets import load_iris\n",
    "\n",
    "# Splitter für die Daten \n",
    "from sklearn.model_selection import train_test_split\n",
    "\n",
    "# Booster verfahren und Klassifizierer\n",
    "from sklearn.tree import DecisionTreeClassifier\n",
    "from sklearn.ensemble import AdaBoostClassifier"
   ]
  },
  {
   "cell_type": "markdown",
   "id": "2247e6e5-7c3f-430d-859d-08f0d825b760",
   "metadata": {},
   "source": [
    "## Load Data Iris"
   ]
  },
  {
   "cell_type": "code",
   "execution_count": 2,
   "id": "b9e36f87-4b44-4f36-a81c-ca9f960fba0a",
   "metadata": {},
   "outputs": [],
   "source": [
    "# Laden des Datensatzes in x als Features und y als Labels\n",
    "x, y = load_iris(return_X_y=True)\n",
    "\n",
    "# aufteilen in Train und Test\n",
    "x_train, x_test, y_train, y_test = train_test_split(x, y, test_size=0.25, random_state=42)"
   ]
  },
  {
   "cell_type": "markdown",
   "id": "5d7e2c06-4f87-4545-add0-a42017beb87c",
   "metadata": {},
   "source": [
    "## Modelling"
   ]
  },
  {
   "cell_type": "code",
   "execution_count": 6,
   "id": "632e28e7-181c-44d3-a5fc-b3a8a156c3a8",
   "metadata": {},
   "outputs": [
    {
     "data": {
      "text/plain": [
       "AdaBoostClassifier(base_estimator=DecisionTreeClassifier(max_depth=2,\n",
       "                                                         random_state=23),\n",
       "                   learning_rate=0.1, n_estimators=5, random_state=23)"
      ]
     },
     "execution_count": 6,
     "metadata": {},
     "output_type": "execute_result"
    }
   ],
   "source": [
    "# Boosting Klassifizierer\n",
    "# Basis Klassifizierer\n",
    "dtree = DecisionTreeClassifier(max_depth=2, random_state=23)\n",
    "\n",
    "\n",
    "# Übergabe des Klassifizieres an das Boosting Verfahren\n",
    "adaboosting = AdaBoostClassifier(base_estimator=dtree, n_estimators=5, learning_rate=0.1, random_state=23)\n",
    "\n",
    "# Train!\n",
    "adaboosting.fit(x_train, y_train)"
   ]
  },
  {
   "cell_type": "code",
   "execution_count": 7,
   "id": "ce994c99-7509-430d-9f8f-a4c9444599ad",
   "metadata": {},
   "outputs": [
    {
     "name": "stdout",
     "output_type": "stream",
     "text": [
      "Train score: 0.9732142857142857\n",
      "Test score: 1.0\n"
     ]
    }
   ],
   "source": [
    "# Performance\n",
    "print(f\"Train score: {adaboosting.score(x_train, y_train)}\")\n",
    "print(f\"Test score: {adaboosting.score(x_test, y_test)}\")"
   ]
  },
  {
   "cell_type": "markdown",
   "id": "bc586bdd-45de-4ecf-b128-013d4b506de5",
   "metadata": {},
   "source": [
    "## Load Data BreastCancer"
   ]
  },
  {
   "cell_type": "code",
   "execution_count": 8,
   "id": "a3b33cb3-c608-4d07-bd7e-463d30df0914",
   "metadata": {},
   "outputs": [],
   "source": [
    "x, y = load_breast_cancer(return_X_y=True)\n",
    "x_train, x_test, y_train, y_test = train_test_split(x, y, test_size=0.25, random_state=42)"
   ]
  },
  {
   "cell_type": "markdown",
   "id": "844370e1-1475-4451-af8b-1d2b0125be74",
   "metadata": {},
   "source": [
    "## Modelling"
   ]
  },
  {
   "cell_type": "code",
   "execution_count": 14,
   "id": "8f100b03-a774-46bf-aac9-335e789f55a7",
   "metadata": {},
   "outputs": [
    {
     "data": {
      "text/plain": [
       "AdaBoostClassifier(base_estimator=DecisionTreeClassifier(max_depth=2,\n",
       "                                                         random_state=23),\n",
       "                   learning_rate=0.1, n_estimators=5, random_state=23)"
      ]
     },
     "execution_count": 14,
     "metadata": {},
     "output_type": "execute_result"
    }
   ],
   "source": [
    "# Boosting Klassifizierer\n",
    "# Basis Klassifizierer\n",
    "dtree = DecisionTreeClassifier(max_depth=2, random_state=23)\n",
    "\n",
    "# Übergabe des Klassifizieres an das Boosting Verfahren\n",
    "adaboosting = AdaBoostClassifier(base_estimator=dtree, n_estimators=5, learning_rate=0.1, random_state=23)\n",
    "\n",
    "# Train!\n",
    "adaboosting.fit(x_train, y_train)"
   ]
  },
  {
   "cell_type": "code",
   "execution_count": 15,
   "id": "06e04ec1-a927-40ae-9119-86cb80f0e4c6",
   "metadata": {},
   "outputs": [
    {
     "name": "stdout",
     "output_type": "stream",
     "text": [
      "Train score: 0.9741784037558685\n",
      "Test score: 0.9440559440559441\n"
     ]
    }
   ],
   "source": [
    "# Performance\n",
    "print(f\"Train score: {adaboosting.score(x_train, y_train)}\")\n",
    "print(f\"Test score: {adaboosting.score(x_test, y_test)}\")"
   ]
  },
  {
   "cell_type": "code",
   "execution_count": null,
   "id": "02cf5078-721e-4953-a1f9-e2bca5fa0f9b",
   "metadata": {},
   "outputs": [],
   "source": []
  }
 ],
 "metadata": {
  "kernelspec": {
   "display_name": "Python 3 (ipykernel)",
   "language": "python",
   "name": "python3"
  },
  "language_info": {
   "codemirror_mode": {
    "name": "ipython",
    "version": 3
   },
   "file_extension": ".py",
   "mimetype": "text/x-python",
   "name": "python",
   "nbconvert_exporter": "python",
   "pygments_lexer": "ipython3",
   "version": "3.9.6"
  }
 },
 "nbformat": 4,
 "nbformat_minor": 5
}
